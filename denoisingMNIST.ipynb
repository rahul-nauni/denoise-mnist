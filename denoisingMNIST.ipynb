{
  "cells": [
    {
      "attachments": {},
      "cell_type": "markdown",
      "metadata": {
        "id": "hz93vS2LqB41"
      },
      "source": [
        "# Implementing image denoising on MNIST dataset\n"
      ]
    },
    {
      "cell_type": "code",
      "execution_count": 2,
      "metadata": {
        "id": "cTEyA32Cqafq"
      },
      "outputs": [],
      "source": [
        "import numpy as np\n",
        "import matplotlib.pyplot as plt\n",
        "\n",
        "from keras.layers import Conv2D, MaxPooling2D, UpSampling2D, Reshape\n",
        "from keras.models import Sequential\n",
        "from keras.datasets import mnist\n",
        "\n",
        "#visualise images\n",
        "from google.colab.patches import cv2_imshow\n",
        "from google.colab.patches import cv2"
      ]
    },
    {
      "cell_type": "markdown",
      "metadata": {
        "id": "qe3dkLftTH7r"
      },
      "source": [
        "### Downloading MNIST dataset "
      ]
    },
    {
      "cell_type": "code",
      "execution_count": 3,
      "metadata": {
        "id": "4zPjSbySCOYy"
      },
      "outputs": [],
      "source": [
        "def load_mnist():\n",
        "  (x_train, _), (x_test, _) = mnist.load_data() # https://keras.io/datasets\n",
        "  x_train = x_train.astype('float32') / 255.\n",
        "  x_test = x_test.astype('float32') / 255.\n",
        "  x_train = np.reshape(x_train, (len(x_train), 28, 28, 1))\n",
        "  x_test = np.reshape(x_test, (len(x_test), 28, 28, 1))\n",
        "\n",
        "  return x_train, x_test"
      ]
    },
    {
      "cell_type": "markdown",
      "metadata": {
        "id": "XCWdZ3K9SsiW"
      },
      "source": [
        "### View image data"
      ]
    },
    {
      "cell_type": "code",
      "execution_count": 18,
      "metadata": {
        "id": "baj2g4uvqNMd"
      },
      "outputs": [],
      "source": [
        "# Plotting data\n",
        "def viewMNIST(MNIST):\n",
        "  plt.figure(figsize=(20,4))\n",
        "  for i in range(1, 6, 1):\n",
        "    ax = plt.subplot(1, 8, i+1)\n",
        "    plt.imshow(MNIST[i].reshape(28,28))\n",
        "    ax.get_xaxis().set_visible(False)\n",
        "    ax.get_yaxis().set_visible(False)\n",
        "  plt.show()"
      ]
    },
    {
      "cell_type": "markdown",
      "metadata": {
        "id": "pZiEQfLwssAp"
      },
      "source": [
        "### Adding noise to images"
      ]
    },
    {
      "cell_type": "code",
      "execution_count": 9,
      "metadata": {
        "id": "pC8n-fn5sxPJ"
      },
      "outputs": [],
      "source": [
        "# Method to add gaussian noise to our training data set\n",
        "def addNoise(img):\n",
        "  noise_factor = 0.5\n",
        "  x_train_noisy = img + noise_factor * np.random.normal(loc=0.0, scale=1.0, size=img.shape)\n",
        "  x_train_noisy = np.clip(x_train_noisy, 0., 1.)\n",
        "  return x_train_noisy\n"
      ]
    },
    {
      "cell_type": "markdown",
      "metadata": {
        "id": "UiA8D81o1z5X"
      },
      "source": [
        "### Lets define our model and train it to denoise"
      ]
    },
    {
      "cell_type": "code",
      "execution_count": 10,
      "metadata": {
        "id": "N7GeiH09oE9C"
      },
      "outputs": [],
      "source": [
        "def initialiseModel():\n",
        "    model = Sequential()\n",
        "    # Building Encoder-Decoder model \n",
        "    # Encoder network\n",
        "    model.add(Conv2D(35, 3, activation= 'relu', padding='same', input_shape = (28,28,1)))\n",
        "    model.add(MaxPooling2D(2, padding= 'same'))\n",
        "    model.add(Conv2D(25, 3, activation= 'relu', padding='same'))\n",
        "    model.add(MaxPooling2D(2, padding= 'same'))\n",
        "    # Decoder network\n",
        "    model.add(Conv2D(25, 3, activation= 'relu', padding='same'))\n",
        "    model.add(UpSampling2D(2))\n",
        "    model.add(Conv2D(35, 3, activation= 'relu', padding='same'))\n",
        "    model.add(UpSampling2D(2))\n",
        "    model.add(Conv2D(1,3,activation='sigmoid', padding= 'same')) \n",
        "    # Output layer\n",
        "    model.compile(optimizer= 'adam', loss = 'binary_crossentropy')\n",
        "    return model\n",
        "\n",
        "# Training our model on noisy version of MNIST data\n",
        "def trainModel(model, x_train, x_train_noisy, x_test, x_test_noisy):\n",
        "    model.fit(x_train_noisy, x_train,\n",
        "                epochs=15,\n",
        "                batch_size=128,\n",
        "                validation_data=(x_test_noisy, x_test))\n",
        "    return model\n",
        "  \n",
        "# Reconstructing MNIST data\n",
        "def reconstructImgs(model, x_test_noisy):\n",
        "    reconstruction = model.predict(x_test_noisy)\n",
        "    # Display reconstructed images\n",
        "    print(\"Reconstructed images\")\n",
        "    viewMNIST(reconstruction)"
      ]
    },
    {
      "cell_type": "markdown",
      "metadata": {
        "id": "JsDLR-VctibU"
      },
      "source": [
        "*main method*"
      ]
    },
    {
      "cell_type": "code",
      "execution_count": 11,
      "metadata": {
        "id": "Lf1LuRIYSRTc"
      },
      "outputs": [],
      "source": [
        "def main():\n",
        "\n",
        "  # Download MNIST data\n",
        "  x_train, x_test = load_mnist()\n",
        "\n",
        "  # plotting original mnist data\n",
        "  print(\"\\nExample MNIST data\")\n",
        "  viewMNIST(x_train)\n",
        "\n",
        "  x_train_noisy = addNoise(x_train)\n",
        "  x_test_noisy = addNoise(x_test)\n",
        "\n",
        "  # plotting noisy version of mnist data, \n",
        "  print(\"\\nNoisy version of example MNIST data\")\n",
        "  viewMNIST(x_train_noisy)\n",
        "\n",
        "  # Display noisy images before  \n",
        "  print(\"\\nTest images with noise\")\n",
        "  viewMNIST(x_test_noisy)\n",
        "\n",
        "  model = initialiseModel()\n",
        "  model = trainModel(model, x_train, x_train_noisy, x_test, x_test_noisy)\n",
        "  reconstructImgs(model, x_test_noisy)\n"
      ]
    },
    {
      "cell_type": "markdown",
      "metadata": {
        "id": "T7jVuX3hRdsX"
      },
      "source": [
        "*Calling main*"
      ]
    },
    {
      "cell_type": "code",
      "execution_count": 19,
      "metadata": {
        "colab": {
          "base_uri": "https://localhost:8080/",
          "height": 1000
        },
        "id": "rEDmR0cePMq9",
        "outputId": "7944b604-6a10-46ad-a395-b5a89518680d"
      },
      "outputs": [
        {
          "name": "stdout",
          "output_type": "stream",
          "text": [
            "\n",
            "Example MNIST data\n"
          ]
        },
        {
          "data": {
            "image/png": "[encoded data removed]",
            "text/plain": [
              "<Figure size 1440x288 with 5 Axes>"
            ]
          },
          "metadata": {
            "needs_background": "light"
          },
          "output_type": "display_data"
        },
        {
          "name": "stdout",
          "output_type": "stream",
          "text": [
            "\n",
            "Noisy version of example MNIST data\n"
          ]
        },
        {
          "data": {
            "image/png": "[encoded data removed]",
            "text/plain": [
              "<Figure size 1440x288 with 5 Axes>"
            ]
          },
          "metadata": {
            "needs_background": "light"
          },
          "output_type": "display_data"
        },
        {
          "name": "stdout",
          "output_type": "stream",
          "text": [
            "\n",
            "Test images with noise\n"
          ]
        },
        {
          "data": {
            "image/png": "[encoded data removed]",
            "text/plain": [
              "<Figure size 1440x288 with 5 Axes>"
            ]
          },
          "metadata": {
            "needs_background": "light"
          },
          "output_type": "display_data"
        },
        {
          "name": "stdout",
          "output_type": "stream",
          "text": [
            "Epoch 1/15\n",
            "469/469 [==============================] - 171s 363ms/step - loss: 0.1692 - val_loss: 0.1177\n",
            "Epoch 2/15\n",
            "469/469 [==============================] - 167s 356ms/step - loss: 0.1143 - val_loss: 0.1102\n",
            "Epoch 3/15\n",
            "469/469 [==============================] - 167s 356ms/step - loss: 0.1085 - val_loss: 0.1059\n",
            "Epoch 4/15\n",
            "469/469 [==============================] - 168s 358ms/step - loss: 0.1055 - val_loss: 0.1037\n",
            "Epoch 5/15\n",
            "469/469 [==============================] - 166s 354ms/step - loss: 0.1035 - val_loss: 0.1017\n",
            "Epoch 6/15\n",
            "469/469 [==============================] - 167s 356ms/step - loss: 0.1022 - val_loss: 0.1012\n",
            "Epoch 7/15\n",
            "469/469 [==============================] - 166s 354ms/step - loss: 0.1013 - val_loss: 0.0998\n",
            "Epoch 8/15\n",
            "469/469 [==============================] - 166s 353ms/step - loss: 0.1005 - val_loss: 0.0993\n",
            "Epoch 9/15\n",
            "469/469 [==============================] - 166s 353ms/step - loss: 0.0998 - val_loss: 0.0993\n",
            "Epoch 10/15\n",
            "469/469 [==============================] - 164s 350ms/step - loss: 0.0993 - val_loss: 0.0988\n",
            "Epoch 11/15\n",
            "469/469 [==============================] - 166s 353ms/step - loss: 0.0988 - val_loss: 0.0985\n",
            "Epoch 12/15\n",
            "469/469 [==============================] - 167s 356ms/step - loss: 0.0985 - val_loss: 0.0978\n",
            "Epoch 13/15\n",
            "469/469 [==============================] - 167s 355ms/step - loss: 0.0981 - val_loss: 0.0974\n",
            "Epoch 14/15\n",
            "469/469 [==============================] - 166s 354ms/step - loss: 0.0978 - val_loss: 0.0969\n",
            "Epoch 15/15\n",
            "469/469 [==============================] - 167s 356ms/step - loss: 0.0976 - val_loss: 0.0969\n",
            "313/313 [==============================] - 6s 20ms/step\n",
            "Reconstructed images\n"
          ]
        },
        {
          "data": {
            "image/png": "[encoded data removed]",
            "text/plain": [
              "<Figure size 1440x288 with 5 Axes>"
            ]
          },
          "metadata": {
            "needs_background": "light"
          },
          "output_type": "display_data"
        }
      ],
      "source": [
        "main()"
      ]
    }
  ],
  "metadata": {
    "colab": {
      "provenance": []
    },
    "kernelspec": {
      "display_name": "Python 3",
      "language": "python",
      "name": "python3"
    },
    "language_info": {
      "name": "python",
      "version": "3.9.1 (default, Oct 12 2022, 23:52:23) \n[Clang 14.0.0 (clang-1400.0.29.102)]"
    },
    "vscode": {
      "interpreter": {
        "hash": "6d8fc1bdf533634e7d8e072cc02859384a1117262b359fe9e76d50094cfad30f"
      }
    }
  },
  "nbformat": 4,
  "nbformat_minor": 0
}
